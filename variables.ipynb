{
  "metadata": {
    "kernelspec": {
      "name": "xpython",
      "display_name": "Python 3.13 (XPython)",
      "language": "python"
    },
    "language_info": {
      "file_extension": ".py",
      "mimetype": "text/x-python",
      "name": "python",
      "version": "3.13.1"
    }
  },
  "nbformat_minor": 5,
  "nbformat": 4,
  "cells": [
    {
      "id": "9ead8dcf-f4c5-45e4-a947-355a30c0663d",
      "cell_type": "code",
      "source": "pi = 22 / 7\nprint(\"Value of pi:\", pi)\nprint(\"Data type of pi:\", type(pi))\n",
      "metadata": {
        "trusted": true,
        "tags": [],
        "editable": true,
        "slideshow": {
          "slide_type": ""
        }
      },
      "outputs": [
        {
          "name": "stdout",
          "output_type": "stream",
          "text": "Value of pi: 3.142857142857143\nData type of pi: <class 'float'>\n"
        }
      ],
      "execution_count": 1
    },
    {
      "id": "a7a50ebc-38a8-4b8e-8e0d-e9c857040de1",
      "cell_type": "code",
      "source": "for_value = 4\nprint(for_value)",
      "metadata": {
        "trusted": true,
        "tags": [],
        "editable": true,
        "slideshow": {
          "slide_type": ""
        }
      },
      "outputs": [
        {
          "name": "stdout",
          "output_type": "stream",
          "text": "4\n"
        }
      ],
      "execution_count": 2
    },
    {
      "id": "251432ac-1d9c-4461-a585-153889e9a1fc",
      "cell_type": "code",
      "source": "# Store values\nprincipal = 10000  # Principal amount in rupees\nrate = 5           # Rate of interest per annum\ntime = 3           # Time in years\n\n# Calculate Simple Interest\nsimple_interest = (principal * rate * time) / 100\n\n# Print the result\nprint(\"Simple Interest for 3 years is:\", simple_interest)\n",
      "metadata": {
        "trusted": true,
        "tags": [],
        "editable": true,
        "slideshow": {
          "slide_type": ""
        }
      },
      "outputs": [
        {
          "name": "stdout",
          "output_type": "stream",
          "text": "Simple Interest for 3 years is: 1500.0\n"
        }
      ],
      "execution_count": 3
    },
    {
      "id": "95ffe99d-e149-49fd-8565-faa5a2cfad12",
      "cell_type": "code",
      "source": "",
      "metadata": {
        "trusted": true,
        "tags": [],
        "editable": true,
        "slideshow": {
          "slide_type": ""
        }
      },
      "outputs": [],
      "execution_count": null
    }
  ]
}